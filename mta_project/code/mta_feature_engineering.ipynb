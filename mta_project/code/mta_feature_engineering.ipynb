{
 "cells": [
  {
   "cell_type": "markdown",
   "metadata": {},
   "source": [
    "# Feature Engineering Part I: Features Depending on Station"
   ]
  },
  {
   "cell_type": "markdown",
   "metadata": {
    "collapsed": true
   },
   "source": [
    "#### The station name is one of the few supplied features relating to external information of the outside world that can impact turnstile counts. We can gather more information about it to engineer features that will improve our predictive power, starting from its location."
   ]
  },
  {
   "cell_type": "markdown",
   "metadata": {},
   "source": [
    "#### With GeoCoder, we can extract its map coordinates by searching the station name on Google Maps."
   ]
  },
  {
   "cell_type": "code",
   "execution_count": 62,
   "metadata": {
    "collapsed": true
   },
   "outputs": [],
   "source": [
    "import pandas as pd"
   ]
  },
  {
   "cell_type": "code",
   "execution_count": 187,
   "metadata": {},
   "outputs": [
    {
     "name": "stdout",
     "output_type": "stream",
     "text": [
      "          STATION        Trains Latitude Longitude                Coordinates\n",
      "0           59 ST       NQR456W  40.7617   -73.967  (40.7617367, -73.9669511)\n",
      "1      5 AV/59 ST          NQRW  40.7643   -73.973  (40.7643054, -73.9730051)\n",
      "2      57 ST-7 AV          NQRW  40.7656  -73.9803   (40.765564, -73.9803309)\n",
      "3           49 ST          NQRW  40.7621  -73.9877  (40.7621246, -73.9876635)\n",
      "4  TIMES SQ-42 ST  ACENQRS1237W  40.7559  -73.9871   (40.7558611, -73.987061)\n"
     ]
    }
   ],
   "source": [
    "stationInfo = pd.DataFrame(fullTimeTable[['STATION','LINENAME']].drop_duplicates().values.astype(str),columns=['STATION','Trains'])\n",
    "stationInfo=stationInfo.drop_duplicates(subset='STATION').reset_index(drop=True)\n",
    "#stationInfo.to_pickle(path=saveToThisPath+'stationInfo.pickle')\n",
    "#stationInfo=pd.read_pickle(path=saveToThisPath+'stationInfo.pickle')\n",
    "\n",
    "# LATITUDE and LONGITUDE\n",
    "from pygeocoder import Geocoder\n",
    "\n",
    "stationInfo.to_pickle('stationInfo.csv')\n",
    "\n",
    "stationInfo['Latitude']=\"\"\n",
    "stationInfo['Longitude']=\"\"\n",
    "stationInfo['Coordinates'] = \"\""
   ]
  },
  {
   "cell_type": "code",
   "execution_count": 273,
   "metadata": {},
   "outputs": [
    {
     "name": "stdout",
     "output_type": "stream",
     "text": [
      "479\n",
      "479\n",
      "479\n",
      "479\n",
      "479\n",
      "479\n",
      "479\n",
      "          STATION        Trains Latitude Longitude                Coordinates\n",
      "0           59 ST       NQR456W  40.7617   -73.967  (40.7617367, -73.9669511)\n",
      "1      5 AV/59 ST          NQRW  40.7643   -73.973  (40.7643054, -73.9730051)\n",
      "2      57 ST-7 AV          NQRW  40.7656  -73.9803   (40.765564, -73.9803309)\n",
      "3           49 ST          NQRW  40.7621  -73.9877  (40.7621246, -73.9876635)\n",
      "4  TIMES SQ-42 ST  ACENQRS1237W  40.7559  -73.9871   (40.7558611, -73.987061)\n"
     ]
    }
   ],
   "source": [
    "for i in range(0,len(stationInfo)):\n",
    "    coordinates=Geocoder().geocode(stationInfo.loc[i,'STATION']+\", New York, NY\")[0].coordinates\n",
    "    stationInfo.loc[i,'Coordinates']=str(coordinates)\n",
    "    stationInfo.loc[i,'Latitude']=coordinates[0]\n",
    "    stationInfo.loc[i,'Longitude']=coordinates[1]\n",
    "    print(len(stationInfo[stationInfo['Coordinates']!=\"\"]))\n",
    "    \n",
    "stationInfo.to_pickle('stationInfo.csv')\n",
    "\n",
    "print(stationInfo.head())"
   ]
  },
  {
   "cell_type": "markdown",
   "metadata": {
    "collapsed": true
   },
   "source": [
    "#### Tracking the borough or part of a borough the station is in can help us narrow what we're looking at, as places in New York City just a mile apart can vary so much."
   ]
  },
  {
   "cell_type": "code",
   "execution_count": 28,
   "metadata": {},
   "outputs": [
    {
     "name": "stderr",
     "output_type": "stream",
     "text": [
      "C:\\Users\\ericn\\Anaconda3\\lib\\site-packages\\geopy\\geocoders\\osm.py:138: UserWarning: Using Nominatim with the default \"geopy/1.16.0\" `user_agent` is strongly discouraged, as it violates Nominatim's ToS https://operations.osmfoundation.org/policies/nominatim/ and may possibly cause 403 and 429 HTTP errors. Please specify a custom `user_agent` with `Nominatim(user_agent=\"my-application\")` or by overriding the default `user_agent`: `geopy.geocoders.options.default_user_agent = \"my-application\"`. In geopy 2.0 this will become an exception.\n",
      "  UserWarning\n"
     ]
    },
    {
     "data": {
      "text/plain": [
       "Location(Bloomingdale's, East 59th Street, Upper East Side, Midtown East, Manhattan, Manhattan Community Board 6, New York County, NYC, New York, 10022, United States of America, (40.76221035, -73.9671743455906, 0.0))"
      ]
     },
     "execution_count": 28,
     "metadata": {},
     "output_type": "execute_result"
    }
   ],
   "source": [
    "# BOROUGH\n",
    "from geopy.geocoders import Nominatim\n",
    "geolocator = Nominatim()\n",
    "coordList = stationInfo[['Latitude','Longitude']].values.tolist()\n",
    "\n",
    "def coordInfo(c):\n",
    "    borough = str(geolocator.reverse(c)).split(', ')\n",
    "    return borough\n",
    "\n",
    "geolocator.reverse(coordList[0])"
   ]
  },
  {
   "cell_type": "code",
   "execution_count": 31,
   "metadata": {
    "collapsed": true
   },
   "outputs": [],
   "source": [
    "list1=   list(map(coordInfo,coordList[0:50]))"
   ]
  },
  {
   "cell_type": "code",
   "execution_count": 33,
   "metadata": {
    "collapsed": true
   },
   "outputs": [],
   "source": [
    "list2 =  list(map(coordInfo,coordList[51:100]))"
   ]
  },
  {
   "cell_type": "code",
   "execution_count": 35,
   "metadata": {
    "collapsed": true
   },
   "outputs": [],
   "source": [
    "list3 =  list(map(coordInfo,coordList[101:150]))"
   ]
  },
  {
   "cell_type": "code",
   "execution_count": 36,
   "metadata": {
    "collapsed": true
   },
   "outputs": [],
   "source": [
    "list4 =  list(map(coordInfo,coordList[151:200]))"
   ]
  },
  {
   "cell_type": "code",
   "execution_count": 38,
   "metadata": {
    "collapsed": true
   },
   "outputs": [],
   "source": [
    "list5 =  list(map(coordInfo,coordList[201:250]))"
   ]
  },
  {
   "cell_type": "code",
   "execution_count": 39,
   "metadata": {
    "collapsed": true
   },
   "outputs": [],
   "source": [
    "list6 =  list(map(coordInfo,coordList[251:300]))"
   ]
  },
  {
   "cell_type": "code",
   "execution_count": 40,
   "metadata": {
    "collapsed": true
   },
   "outputs": [],
   "source": [
    "list7 =  list(map(coordInfo,coordList[301:350]))"
   ]
  },
  {
   "cell_type": "code",
   "execution_count": 41,
   "metadata": {
    "collapsed": true
   },
   "outputs": [],
   "source": [
    "list8 =  list(map(coordInfo,coordList[351:400]))"
   ]
  },
  {
   "cell_type": "code",
   "execution_count": 42,
   "metadata": {
    "collapsed": true
   },
   "outputs": [],
   "source": [
    "list9 =  list(map(coordInfo,coordList[401:450]))"
   ]
  },
  {
   "cell_type": "code",
   "execution_count": 43,
   "metadata": {
    "collapsed": true
   },
   "outputs": [],
   "source": [
    "list10 =  list(map(coordInfo,coordList[451:479]))"
   ]
  },
  {
   "cell_type": "code",
   "execution_count": null,
   "metadata": {
    "collapsed": true
   },
   "outputs": [],
   "source": [
    "bigList=list1+list2+list3+list4+list5+list6+list7+list8+list9+list10"
   ]
  },
  {
   "cell_type": "code",
   "execution_count": null,
   "metadata": {
    "collapsed": true
   },
   "outputs": [],
   "source": [
    "stationInfo['Borough'] = pd.DataFrame(bigList).loc[:,3]"
   ]
  },
  {
   "cell_type": "code",
   "execution_count": 51,
   "metadata": {
    "collapsed": true
   },
   "outputs": [],
   "source": [
    "stationInfo.to_pickle('D:/MTA/stationInfo.pickle')"
   ]
  },
  {
   "cell_type": "code",
   "execution_count": 52,
   "metadata": {},
   "outputs": [
    {
     "data": {
      "text/html": [
       "<div>\n",
       "<style>\n",
       "    .dataframe thead tr:only-child th {\n",
       "        text-align: right;\n",
       "    }\n",
       "\n",
       "    .dataframe thead th {\n",
       "        text-align: left;\n",
       "    }\n",
       "\n",
       "    .dataframe tbody tr th {\n",
       "        vertical-align: top;\n",
       "    }\n",
       "</style>\n",
       "<table border=\"1\" class=\"dataframe\">\n",
       "  <thead>\n",
       "    <tr style=\"text-align: right;\">\n",
       "      <th></th>\n",
       "      <th>STATION</th>\n",
       "      <th>Trains</th>\n",
       "      <th>Latitude</th>\n",
       "      <th>Longitude</th>\n",
       "      <th>Coordinates</th>\n",
       "      <th>Borough</th>\n",
       "    </tr>\n",
       "  </thead>\n",
       "  <tbody>\n",
       "    <tr>\n",
       "      <th>0</th>\n",
       "      <td>59 ST</td>\n",
       "      <td>NQR456W</td>\n",
       "      <td>40.7617</td>\n",
       "      <td>-73.967</td>\n",
       "      <td>(40.7617367, -73.9669511)</td>\n",
       "      <td>Midtown East</td>\n",
       "    </tr>\n",
       "    <tr>\n",
       "      <th>1</th>\n",
       "      <td>5 AV/59 ST</td>\n",
       "      <td>NQRW</td>\n",
       "      <td>40.7643</td>\n",
       "      <td>-73.973</td>\n",
       "      <td>(40.7643054, -73.9730051)</td>\n",
       "      <td>Upper East Side</td>\n",
       "    </tr>\n",
       "    <tr>\n",
       "      <th>2</th>\n",
       "      <td>57 ST-7 AV</td>\n",
       "      <td>NQRW</td>\n",
       "      <td>40.7656</td>\n",
       "      <td>-73.9803</td>\n",
       "      <td>(40.765564, -73.9803309)</td>\n",
       "      <td>Manhattan</td>\n",
       "    </tr>\n",
       "    <tr>\n",
       "      <th>3</th>\n",
       "      <td>49 ST</td>\n",
       "      <td>NQRW</td>\n",
       "      <td>40.7621</td>\n",
       "      <td>-73.9877</td>\n",
       "      <td>(40.7621246, -73.9876635)</td>\n",
       "      <td>Manhattan</td>\n",
       "    </tr>\n",
       "    <tr>\n",
       "      <th>4</th>\n",
       "      <td>TIMES SQ-42 ST</td>\n",
       "      <td>ACENQRS1237W</td>\n",
       "      <td>40.7559</td>\n",
       "      <td>-73.9871</td>\n",
       "      <td>(40.7558611, -73.987061)</td>\n",
       "      <td>Manhattan</td>\n",
       "    </tr>\n",
       "  </tbody>\n",
       "</table>\n",
       "</div>"
      ],
      "text/plain": [
       "          STATION        Trains Latitude Longitude                Coordinates  \\\n",
       "0           59 ST       NQR456W  40.7617   -73.967  (40.7617367, -73.9669511)   \n",
       "1      5 AV/59 ST          NQRW  40.7643   -73.973  (40.7643054, -73.9730051)   \n",
       "2      57 ST-7 AV          NQRW  40.7656  -73.9803   (40.765564, -73.9803309)   \n",
       "3           49 ST          NQRW  40.7621  -73.9877  (40.7621246, -73.9876635)   \n",
       "4  TIMES SQ-42 ST  ACENQRS1237W  40.7559  -73.9871   (40.7558611, -73.987061)   \n",
       "\n",
       "           Borough  \n",
       "0     Midtown East  \n",
       "1  Upper East Side  \n",
       "2        Manhattan  \n",
       "3        Manhattan  \n",
       "4        Manhattan  "
      ]
     },
     "execution_count": 52,
     "metadata": {},
     "output_type": "execute_result"
    }
   ],
   "source": [
    "stationInfo.head()"
   ]
  },
  {
   "cell_type": "markdown",
   "metadata": {
    "collapsed": true
   },
   "source": [
    "#### The distance to the closest station may impact whether a passenger will choose to take a train to get somewhere, rather than walk or take a taxi/Uber/Lyft instead. "
   ]
  },
  {
   "cell_type": "code",
   "execution_count": 347,
   "metadata": {
    "collapsed": true
   },
   "outputs": [],
   "source": [
    "stationInfo=stationInfo.drop_duplicates(subset='STATION').reset_index(drop=True)"
   ]
  },
  {
   "cell_type": "code",
   "execution_count": 348,
   "metadata": {
    "collapsed": true
   },
   "outputs": [],
   "source": [
    "from math import sin, cos, sqrt, atan2\n",
    "import pandas as pd\n",
    "import numpy as np\n",
    "import geopy.distance\n",
    "\n",
    "def dist(lat1, long1, lat2, long2):\n",
    "    coords_1=[lat1,long1]\n",
    "    coords_2=[lat2,long2]\n",
    "    return geopy.distance.vincenty(coords_1, coords_2).m\n",
    "    \n",
    "def find_closest_station(lat, long):\n",
    "    distances = stationInfo.apply(lambda row: dist(lat, long, row['Latitude'], row['Longitude']), axis=1)\n",
    "    return stationInfo.loc[distances.nsmallest(2).index.values[1], 'STATION']\n",
    "\n",
    "def dist_to_closest(lat, long):\n",
    "    distances = stationInfo.apply(lambda row: dist(lat, long, row['Latitude'], row['Longitude']), axis=1)\n",
    "    return distances.nsmallest(2).values[1]\n",
    "\n",
    "stationInfo['ClosestStation']=stationInfo[['Latitude','Longitude']].apply(lambda row: find_closest_station(row['Latitude'], row['Longitude']), axis=1)\n",
    "stationInfo['distToClosestStation']=stationInfo[['Latitude','Longitude']].apply(lambda row: dist_to_closest(row['Latitude'], row['Longitude']), axis=1)\n",
    "\n"
   ]
  },
  {
   "cell_type": "code",
   "execution_count": 351,
   "metadata": {},
   "outputs": [
    {
     "data": {
      "text/plain": [
       "373    98074.283935\n",
       "248    98074.283935\n",
       "205    19674.772636\n",
       "237    13026.489971\n",
       "113     4114.183269\n",
       "Name: distToClosestStation, dtype: float64"
      ]
     },
     "execution_count": 351,
     "metadata": {},
     "output_type": "execute_result"
    }
   ],
   "source": [
    "stationInfo['distToClosestStation'].sort_values(ascending=False).head()"
   ]
  },
  {
   "cell_type": "code",
   "execution_count": 352,
   "metadata": {},
   "outputs": [
    {
     "data": {
      "text/html": [
       "<div>\n",
       "<style>\n",
       "    .dataframe thead tr:only-child th {\n",
       "        text-align: right;\n",
       "    }\n",
       "\n",
       "    .dataframe thead th {\n",
       "        text-align: left;\n",
       "    }\n",
       "\n",
       "    .dataframe tbody tr th {\n",
       "        vertical-align: top;\n",
       "    }\n",
       "</style>\n",
       "<table border=\"1\" class=\"dataframe\">\n",
       "  <thead>\n",
       "    <tr style=\"text-align: right;\">\n",
       "      <th></th>\n",
       "      <th>STATION</th>\n",
       "      <th>Trains</th>\n",
       "      <th>Latitude</th>\n",
       "      <th>Longitude</th>\n",
       "      <th>Coordinates</th>\n",
       "      <th>Borough</th>\n",
       "      <th>ClosestStation</th>\n",
       "      <th>distToClosestStation</th>\n",
       "      <th>1</th>\n",
       "      <th>2</th>\n",
       "      <th>...</th>\n",
       "      <th>F</th>\n",
       "      <th>G</th>\n",
       "      <th>J</th>\n",
       "      <th>L</th>\n",
       "      <th>M</th>\n",
       "      <th>N</th>\n",
       "      <th>Q</th>\n",
       "      <th>R</th>\n",
       "      <th>S</th>\n",
       "      <th>W</th>\n",
       "    </tr>\n",
       "  </thead>\n",
       "  <tbody>\n",
       "    <tr>\n",
       "      <th>373</th>\n",
       "      <td>RIT-MANHATTAN</td>\n",
       "      <td>R</td>\n",
       "      <td>43.0846</td>\n",
       "      <td>-77.6743</td>\n",
       "      <td>(43.0845894, -77.67434449999999)</td>\n",
       "      <td>Manhattan</td>\n",
       "      <td>LACKAWANNA</td>\n",
       "      <td>98074.283935</td>\n",
       "      <td>0</td>\n",
       "      <td>0</td>\n",
       "      <td>...</td>\n",
       "      <td>0</td>\n",
       "      <td>0</td>\n",
       "      <td>0</td>\n",
       "      <td>0</td>\n",
       "      <td>0</td>\n",
       "      <td>0</td>\n",
       "      <td>0</td>\n",
       "      <td>1</td>\n",
       "      <td>0</td>\n",
       "      <td>0</td>\n",
       "    </tr>\n",
       "    <tr>\n",
       "      <th>248</th>\n",
       "      <td>LACKAWANNA</td>\n",
       "      <td>1</td>\n",
       "      <td>42.8256</td>\n",
       "      <td>-78.8234</td>\n",
       "      <td>(42.8256141, -78.8233664)</td>\n",
       "      <td>Financial District</td>\n",
       "      <td>RIT-MANHATTAN</td>\n",
       "      <td>98074.283935</td>\n",
       "      <td>1</td>\n",
       "      <td>0</td>\n",
       "      <td>...</td>\n",
       "      <td>0</td>\n",
       "      <td>0</td>\n",
       "      <td>0</td>\n",
       "      <td>0</td>\n",
       "      <td>0</td>\n",
       "      <td>0</td>\n",
       "      <td>0</td>\n",
       "      <td>0</td>\n",
       "      <td>0</td>\n",
       "      <td>0</td>\n",
       "    </tr>\n",
       "    <tr>\n",
       "      <th>205</th>\n",
       "      <td>BROADWAY</td>\n",
       "      <td>G</td>\n",
       "      <td>41.1115</td>\n",
       "      <td>-73.8584</td>\n",
       "      <td>(41.1115472, -73.85838059999999)</td>\n",
       "      <td>BK</td>\n",
       "      <td>HARRISON</td>\n",
       "      <td>19674.772636</td>\n",
       "      <td>0</td>\n",
       "      <td>0</td>\n",
       "      <td>...</td>\n",
       "      <td>0</td>\n",
       "      <td>1</td>\n",
       "      <td>0</td>\n",
       "      <td>0</td>\n",
       "      <td>0</td>\n",
       "      <td>0</td>\n",
       "      <td>0</td>\n",
       "      <td>0</td>\n",
       "      <td>0</td>\n",
       "      <td>0</td>\n",
       "    </tr>\n",
       "    <tr>\n",
       "      <th>237</th>\n",
       "      <td>HARRISON</td>\n",
       "      <td>1</td>\n",
       "      <td>40.97</td>\n",
       "      <td>-73.7176</td>\n",
       "      <td>(40.9700171, -73.7176337)</td>\n",
       "      <td>Manhattan</td>\n",
       "      <td>ORCHARD BEACH</td>\n",
       "      <td>13026.489971</td>\n",
       "      <td>1</td>\n",
       "      <td>0</td>\n",
       "      <td>...</td>\n",
       "      <td>0</td>\n",
       "      <td>0</td>\n",
       "      <td>0</td>\n",
       "      <td>0</td>\n",
       "      <td>0</td>\n",
       "      <td>0</td>\n",
       "      <td>0</td>\n",
       "      <td>0</td>\n",
       "      <td>0</td>\n",
       "      <td>0</td>\n",
       "    </tr>\n",
       "    <tr>\n",
       "      <th>113</th>\n",
       "      <td>FOREST AVE</td>\n",
       "      <td>M</td>\n",
       "      <td>40.6256</td>\n",
       "      <td>-74.135</td>\n",
       "      <td>(40.6255926, -74.13504069999999)</td>\n",
       "      <td>Middle Village</td>\n",
       "      <td>TOMPKINSVILLE</td>\n",
       "      <td>4114.183269</td>\n",
       "      <td>0</td>\n",
       "      <td>0</td>\n",
       "      <td>...</td>\n",
       "      <td>0</td>\n",
       "      <td>0</td>\n",
       "      <td>0</td>\n",
       "      <td>0</td>\n",
       "      <td>1</td>\n",
       "      <td>0</td>\n",
       "      <td>0</td>\n",
       "      <td>0</td>\n",
       "      <td>0</td>\n",
       "      <td>0</td>\n",
       "    </tr>\n",
       "  </tbody>\n",
       "</table>\n",
       "<p>5 rows × 30 columns</p>\n",
       "</div>"
      ],
      "text/plain": [
       "           STATION Trains Latitude Longitude  \\\n",
       "373  RIT-MANHATTAN      R  43.0846  -77.6743   \n",
       "248     LACKAWANNA      1  42.8256  -78.8234   \n",
       "205       BROADWAY      G  41.1115  -73.8584   \n",
       "237       HARRISON      1    40.97  -73.7176   \n",
       "113     FOREST AVE      M  40.6256   -74.135   \n",
       "\n",
       "                          Coordinates             Borough ClosestStation  \\\n",
       "373  (43.0845894, -77.67434449999999)           Manhattan     LACKAWANNA   \n",
       "248         (42.8256141, -78.8233664)  Financial District  RIT-MANHATTAN   \n",
       "205  (41.1115472, -73.85838059999999)                  BK       HARRISON   \n",
       "237         (40.9700171, -73.7176337)           Manhattan  ORCHARD BEACH   \n",
       "113  (40.6255926, -74.13504069999999)      Middle Village  TOMPKINSVILLE   \n",
       "\n",
       "     distToClosestStation  1  2 ...  F  G  J  L  M  N  Q  R  S  W  \n",
       "373          98074.283935  0  0 ...  0  0  0  0  0  0  0  1  0  0  \n",
       "248          98074.283935  1  0 ...  0  0  0  0  0  0  0  0  0  0  \n",
       "205          19674.772636  0  0 ...  0  1  0  0  0  0  0  0  0  0  \n",
       "237          13026.489971  1  0 ...  0  0  0  0  0  0  0  0  0  0  \n",
       "113           4114.183269  0  0 ...  0  0  0  0  1  0  0  0  0  0  \n",
       "\n",
       "[5 rows x 30 columns]"
      ]
     },
     "execution_count": 352,
     "metadata": {},
     "output_type": "execute_result"
    }
   ],
   "source": [
    "stationInfo.loc[[373,248,205,237],:]"
   ]
  },
  {
   "cell_type": "code",
   "execution_count": 353,
   "metadata": {
    "collapsed": true
   },
   "outputs": [],
   "source": [
    "stationInfo.loc[[373,248,205,237],:]=np.nan"
   ]
  },
  {
   "cell_type": "markdown",
   "metadata": {
    "collapsed": true
   },
   "source": [
    "#### The availiability of a train one needs to take to get to their destination may impact if the rider chooses to enter that station over another. We will One Hot Encode a binary feature for the availability of each of the 22 trains in a row's station."
   ]
  },
  {
   "cell_type": "code",
   "execution_count": 54,
   "metadata": {
    "collapsed": true
   },
   "outputs": [],
   "source": [
    "# Add takeable-Trains in Station? OneHotEncode.\n",
    "trainList = ['1','2','3','4','5','6','7','A','B','C','D','E','F','G','J','L','M','N','Q','R','S','W']\n",
    "for t in trainList:\n",
    "    stationInfo[t]= stationInfo['Trains'].apply(lambda x: 1 if t in x else 0)"
   ]
  },
  {
   "cell_type": "code",
   "execution_count": null,
   "metadata": {
    "collapsed": true
   },
   "outputs": [],
   "source": [
    "# OTHER POTENTIAL FEATURES WORTH OF ENGINEERING:\n",
    "\n",
    "#['On E Line','On F Line',''On F Line']\n",
    "# Num Stops to Penn\n",
    "# Num Stops to GC\n",
    "# Num Stops to TimesSq\n",
    "# WHETHER ONE OF THESE IS REACHABLE BY DIRECTLY TAKING THIS STATION"
   ]
  },
  {
   "cell_type": "markdown",
   "metadata": {
    "collapsed": true
   },
   "source": [
    "#### Finally, we merge this onto the original table by the corresponding station."
   ]
  },
  {
   "cell_type": "code",
   "execution_count": 357,
   "metadata": {},
   "outputs": [
    {
     "data": {
      "text/plain": [
       "379"
      ]
     },
     "execution_count": 357,
     "metadata": {},
     "output_type": "execute_result"
    }
   ],
   "source": [
    "len(stationInfo)"
   ]
  },
  {
   "cell_type": "code",
   "execution_count": 354,
   "metadata": {
    "collapsed": true
   },
   "outputs": [],
   "source": [
    "stationInfo.to_pickle('D:/MTA/stationInfo.pickle')"
   ]
  },
  {
   "cell_type": "code",
   "execution_count": 4,
   "metadata": {
    "collapsed": true
   },
   "outputs": [],
   "source": [
    "stationInfo=pd.read_pickle('D:/MTA/stationInfo.pickle')"
   ]
  },
  {
   "cell_type": "code",
   "execution_count": 3,
   "metadata": {
    "collapsed": true
   },
   "outputs": [],
   "source": [
    "import pandas as pd\n",
    "fullTimeTable=pd.read_pickle('D:/MTA/fullTimeTable.pickle')"
   ]
  },
  {
   "cell_type": "code",
   "execution_count": 5,
   "metadata": {
    "collapsed": true
   },
   "outputs": [],
   "source": [
    "fullTimeTable=fullTimeTable.drop(['distToClosestStation','ClosestStation'],axis=1)"
   ]
  },
  {
   "cell_type": "code",
   "execution_count": 6,
   "metadata": {},
   "outputs": [
    {
     "data": {
      "text/plain": [
       "8994256"
      ]
     },
     "execution_count": 6,
     "metadata": {},
     "output_type": "execute_result"
    }
   ],
   "source": [
    "fullTimeTable=fullTimeTable.reset_index(drop=True).merge(stationInfo)\n",
    "len(fullTimeTable)"
   ]
  },
  {
   "cell_type": "markdown",
   "metadata": {},
   "source": [
    "# Feature Engineering Part II: Features Depending on Day"
   ]
  },
  {
   "cell_type": "markdown",
   "metadata": {
    "collapsed": true
   },
   "source": [
    "#### Of course, we also intend to see how time features relate to entry."
   ]
  },
  {
   "cell_type": "code",
   "execution_count": null,
   "metadata": {
    "collapsed": true
   },
   "outputs": [],
   "source": [
    "from datetime import datetime\n",
    "from dateutil.parser import parse\n",
    "dailyTable=pd.DataFrame(fullTimeTable['DATE'].drop_duplicates().values,columns=['Date'])\n",
    "dailyTable['datetime']=[datetime.strptime(x, '%m/%d/%Y') for x in dailyTable['Date']]\n",
    "\n",
    "#Add Weekday Column\n",
    "dailyTable['Weekday'] = dailyTable['datetime'].dt.weekday_name\n",
    "\n",
    "#Add Month Column\n",
    "dailyTable['Mo'] = dailyTable['datetime'].dt.month\n",
    "\n",
    "#Add Holiday Or Not Column\n",
    "holidays = calendar().holidays(start=dailyTable['datetime'].min(), end=dailyTable['datetime'].max())\n",
    "dailyTable['Holiday'] = dailyTable['datetime'].isin(holidays)"
   ]
  },
  {
   "cell_type": "markdown",
   "metadata": {
    "collapsed": true
   },
   "source": [
    "#### How hot or cold it is and whether its raining or snowing a lot can impact the turnout at a station, or even in the subway as a whole."
   ]
  },
  {
   "cell_type": "code",
   "execution_count": null,
   "metadata": {
    "collapsed": true
   },
   "outputs": [],
   "source": [
    "#Scrape the Mean Daily Temperature and Mean Precipitation\n",
    "from WunderWeather import weather\n",
    "from pprint import pprint\n",
    "import arrow\n",
    "extractor = weather.Extract('ce9f876ace16df4b') # API KEY\n",
    "\n",
    "def getWeather(d):\n",
    "    date = arrow.get(d,\"MM/DD/YYYY\")\n",
    "    location = \"NY/New York\"\n",
    "    response = extractor.date(location,date.format('YYYYMMDD'))\n",
    "    return response.data['dailysummary'][0]['meantempi'],response.data['dailysummary'][0]['precipi']\n",
    "\n",
    "dailyTable['Avg Temperature']=dailyTable['Date'].apply(lambda d: getWeather(d)[0])\n",
    "dailyTable['Precipitation']=dailyTable['Date'].apply(lambda d: getWeather(d)[1])"
   ]
  },
  {
   "cell_type": "code",
   "execution_count": null,
   "metadata": {
    "collapsed": true
   },
   "outputs": [],
   "source": [
    "saveToThisPath = \"D:/MTA/\"\n",
    "dailyTable.to_pickle(path=saveToThisPath+'dailyTable.pickle')"
   ]
  },
  {
   "cell_type": "code",
   "execution_count": 30,
   "metadata": {},
   "outputs": [
    {
     "data": {
      "text/html": [
       "<div>\n",
       "<style>\n",
       "    .dataframe thead tr:only-child th {\n",
       "        text-align: right;\n",
       "    }\n",
       "\n",
       "    .dataframe thead th {\n",
       "        text-align: left;\n",
       "    }\n",
       "\n",
       "    .dataframe tbody tr th {\n",
       "        vertical-align: top;\n",
       "    }\n",
       "</style>\n",
       "<table border=\"1\" class=\"dataframe\">\n",
       "  <thead>\n",
       "    <tr style=\"text-align: right;\">\n",
       "      <th></th>\n",
       "      <th>Date</th>\n",
       "      <th>datetime</th>\n",
       "      <th>Weekday</th>\n",
       "      <th>Holiday</th>\n",
       "      <th>Avg Temperature</th>\n",
       "      <th>Precipitation</th>\n",
       "    </tr>\n",
       "  </thead>\n",
       "  <tbody>\n",
       "    <tr>\n",
       "      <th>0</th>\n",
       "      <td>08/04/2018</td>\n",
       "      <td>2018-08-04</td>\n",
       "      <td>Saturday</td>\n",
       "      <td>False</td>\n",
       "      <td>78</td>\n",
       "      <td>0.74</td>\n",
       "    </tr>\n",
       "    <tr>\n",
       "      <th>1</th>\n",
       "      <td>08/05/2018</td>\n",
       "      <td>2018-08-05</td>\n",
       "      <td>Sunday</td>\n",
       "      <td>False</td>\n",
       "      <td>82</td>\n",
       "      <td>0.00</td>\n",
       "    </tr>\n",
       "    <tr>\n",
       "      <th>2</th>\n",
       "      <td>08/06/2018</td>\n",
       "      <td>2018-08-06</td>\n",
       "      <td>Monday</td>\n",
       "      <td>False</td>\n",
       "      <td>85</td>\n",
       "      <td>0.00</td>\n",
       "    </tr>\n",
       "    <tr>\n",
       "      <th>3</th>\n",
       "      <td>08/07/2018</td>\n",
       "      <td>2018-08-07</td>\n",
       "      <td>Tuesday</td>\n",
       "      <td>False</td>\n",
       "      <td>82</td>\n",
       "      <td>0.05</td>\n",
       "    </tr>\n",
       "    <tr>\n",
       "      <th>4</th>\n",
       "      <td>08/08/2018</td>\n",
       "      <td>2018-08-08</td>\n",
       "      <td>Wednesday</td>\n",
       "      <td>False</td>\n",
       "      <td>83</td>\n",
       "      <td>0.00</td>\n",
       "    </tr>\n",
       "  </tbody>\n",
       "</table>\n",
       "</div>"
      ],
      "text/plain": [
       "         Date   datetime    Weekday  Holiday Avg Temperature Precipitation\n",
       "0  08/04/2018 2018-08-04   Saturday    False              78          0.74\n",
       "1  08/05/2018 2018-08-05     Sunday    False              82          0.00\n",
       "2  08/06/2018 2018-08-06     Monday    False              85          0.00\n",
       "3  08/07/2018 2018-08-07    Tuesday    False              82          0.05\n",
       "4  08/08/2018 2018-08-08  Wednesday    False              83          0.00"
      ]
     },
     "execution_count": 30,
     "metadata": {},
     "output_type": "execute_result"
    }
   ],
   "source": [
    "dailyTable.head()"
   ]
  },
  {
   "cell_type": "markdown",
   "metadata": {
    "collapsed": true
   },
   "source": [
    "#### Finally, we merge this onto the original table by the corresponding date."
   ]
  },
  {
   "cell_type": "code",
   "execution_count": 107,
   "metadata": {
    "collapsed": true
   },
   "outputs": [],
   "source": [
    "dailyTable=pd.read_pickle('D:/MTA/dailyTable.pickle')\n",
    "fullTimeTable=pd.merge(fullTimeTable,dailyTable, left_on='DATE',right_on='datetime')"
   ]
  },
  {
   "cell_type": "code",
   "execution_count": 179,
   "metadata": {},
   "outputs": [
    {
     "data": {
      "text/plain": [
       "9087106"
      ]
     },
     "execution_count": 179,
     "metadata": {},
     "output_type": "execute_result"
    }
   ],
   "source": [
    "len(fullTimeTable)"
   ]
  },
  {
   "cell_type": "code",
   "execution_count": 11,
   "metadata": {
    "collapsed": true
   },
   "outputs": [],
   "source": [
    "fullTimeTable.to_pickle('D:/MTA/fullTimeTable.pickle')"
   ]
  }
 ],
 "metadata": {
  "kernelspec": {
   "display_name": "Python 3",
   "language": "python",
   "name": "python3"
  },
  "language_info": {
   "codemirror_mode": {
    "name": "ipython",
    "version": 3
   },
   "file_extension": ".py",
   "mimetype": "text/x-python",
   "name": "python",
   "nbconvert_exporter": "python",
   "pygments_lexer": "ipython3",
   "version": "3.6.3"
  }
 },
 "nbformat": 4,
 "nbformat_minor": 2
}
