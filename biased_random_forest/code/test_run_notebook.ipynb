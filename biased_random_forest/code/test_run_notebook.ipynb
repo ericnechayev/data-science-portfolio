{
 "cells": [
  {
   "cell_type": "code",
   "execution_count": 1,
   "metadata": {
    "collapsed": true
   },
   "outputs": [],
   "source": [
    "import random\n",
    "import time\n",
    "\n",
    "from prediction_functions import cross_validation, predict_test_set\n",
    "from preprocessing import preprocess_and_split"
   ]
  },
  {
   "cell_type": "code",
   "execution_count": 2,
   "metadata": {
    "collapsed": true
   },
   "outputs": [],
   "source": [
    "# Setting our Data Path\n",
    "filepath = \"C:/Users/ericn/Desktop/assignment_eric_nechayev/data/diabetes.csv\"\n",
    "\n",
    "# Importing, Pre-processing and Splitting our Dataset\n",
    "test_size = 0.2\n",
    "random.seed(42)\n",
    "train_df, test_df = preprocess_and_split(filepath=filepath, test_size=test_size)"
   ]
  },
  {
   "cell_type": "code",
   "execution_count": 3,
   "metadata": {
    "collapsed": true
   },
   "outputs": [],
   "source": [
    "# Initializing Default Parameters\n",
    "subsample = 0.8\n",
    "feature_fraction = 0.8\n",
    "max_depth = 4\n",
    "K, p, s = 10, 0.5, 100\n",
    "plots = 'no'"
   ]
  },
  {
   "cell_type": "code",
   "execution_count": 4,
   "metadata": {
    "scrolled": true
   },
   "outputs": [
    {
     "name": "stdout",
     "output_type": "stream",
     "text": [
      "Regular Random Forest Baseline:\n",
      "\n",
      "Test RF Precision = 0.7884615384615384\n",
      "Test RF Recall = 0.7884615384615384\n",
      "Test RF AUPRC = 0.8466772819743903\n",
      "Test RF AUROC = 0.9309954751131222\n",
      "\n"
     ]
    }
   ],
   "source": [
    "# Regular Random Forest Baseline\n",
    "print('Regular Random Forest Baseline:\\n')\n",
    "predict_test_set(train_df, test_df, model_type='RF', s=s, subsample=subsample,\n",
    "                 feature_fraction=feature_fraction, max_depth=max_depth, plots=plots)"
   ]
  },
  {
   "cell_type": "code",
   "execution_count": 5,
   "metadata": {},
   "outputs": [
    {
     "name": "stdout",
     "output_type": "stream",
     "text": [
      "CV BRAF Precision = 0.8008073101311484\n",
      "CV BRAF Recall = 0.8387998776585732\n",
      "CV BRAF AUPRC = 0.8508305911891944\n",
      "CV BRAF AUROC = 0.9466273106697771\n",
      "\n"
     ]
    },
    {
     "data": {
      "text/plain": [
       "0.9466273106697771"
      ]
     },
     "execution_count": 5,
     "metadata": {},
     "output_type": "execute_result"
    }
   ],
   "source": [
    "# Cross-Validation of Train Set using Biased Random Forest with Default Parameters\n",
    "# Plots are saved to the plot_images folder \n",
    "\n",
    "cross_validation(train_df, model_type='BRAF', K=10, p=0.5, s=100, subsample=subsample,\n",
    "                 feature_fraction=feature_fraction, max_depth=max_depth, plots='yes')"
   ]
  },
  {
   "cell_type": "code",
   "execution_count": 6,
   "metadata": {
    "collapsed": true
   },
   "outputs": [],
   "source": [
    "start = time.time()"
   ]
  },
  {
   "cell_type": "code",
   "execution_count": 7,
   "metadata": {},
   "outputs": [
    {
     "name": "stdout",
     "output_type": "stream",
     "text": [
      "Biased Random Forest Test Set: K=10, p=0.5, s=100:\n",
      "\n",
      "Test BRAF Precision = 0.7647058823529411\n",
      "Test BRAF Recall = 0.75\n",
      "Test BRAF AUPRC = 0.8298190024070038\n",
      "Test BRAF AUROC = 0.9325980392156863\n",
      "\n"
     ]
    }
   ],
   "source": [
    "# Predicting the Test Set using Biased Random Forest with Default Parameters\n",
    "# Plots are saved to the plot_images folder \n",
    "\n",
    "print(\"Biased Random Forest Test Set: K=10, p=0.5, s=100:\\n\".format(K,p,s))\n",
    "predict_test_set(train_df, test_df, model_type='BRAF', K=10, p=0.5, s=100, subsample=subsample,\n",
    "                 feature_fraction=feature_fraction, max_depth=max_depth, plots='yes')"
   ]
  },
  {
   "cell_type": "code",
   "execution_count": 8,
   "metadata": {},
   "outputs": [
    {
     "name": "stdout",
     "output_type": "stream",
     "text": [
      "--- 86.92306065559387 seconds ---\n"
     ]
    }
   ],
   "source": [
    "print(\"--- %s seconds ---\" % (time.time() - start))"
   ]
  },
  {
   "cell_type": "code",
   "execution_count": null,
   "metadata": {},
   "outputs": [],
   "source": [
    "# Using 10-Fold Cross Validation to Tune Parameters\n",
    "max_auroc = 0\n",
    "\n",
    "for K in [1, 2, 3, 5, 10]:\n",
    "    \n",
    "    for p in [0.250, 0.375, 0.500, 0.625, 0.750]:\n",
    "        \n",
    "        for s in [50, 100, 150, 200]:\n",
    "            \n",
    "            # Score the Current Parameter Combo Based on Mean AUROC of Folds\n",
    "            print(\"Biased Random Forest: K={}, p={}, s={}:\\n\".format(K,p,s))\n",
    "            current_mean_auroc = cross_validation(train_df, model_type='BRAF', K=K, p=p, s=s, subsample=subsample,\n",
    "                                                  feature_fraction=feature_fraction, max_depth=max_depth, plots=plots)\n",
    "            # If Better, Update the Best Parameters\n",
    "            if current_mean_auroc > max_auroc:\n",
    "                best_k, best_p, best_s = K, p, s"
   ]
  },
  {
   "cell_type": "code",
   "execution_count": null,
   "metadata": {
    "collapsed": true
   },
   "outputs": [],
   "source": [
    "# Best Parameters\n",
    "K, p, s = best_k, best_p, best_s\n",
    "plots = 'yes'"
   ]
  },
  {
   "cell_type": "code",
   "execution_count": null,
   "metadata": {
    "collapsed": true
   },
   "outputs": [],
   "source": [
    "# Cross-Validation with Optimal Parameters\n",
    "cross_validation(train_df, model_type='BRAF', K=K, p=p, s=s, subsample=subsample,\n",
    "                 feature_fraction=feature_fraction, max_depth=max_depth, plots=plots)"
   ]
  },
  {
   "cell_type": "code",
   "execution_count": null,
   "metadata": {
    "collapsed": true
   },
   "outputs": [],
   "source": [
    "# Predicting the Test Set with Optimal Parameters\n",
    "print(\"Biased Random Forest Test Set: K={}, p={}, s={}:\\n\".format(K,p,s))\n",
    "predict_test_set(train_df, test_df, model_type='BRAF', K=K, p=p, s=s, subsample=subsample,\n",
    "                 feature_fraction=feature_fraction, max_depth=max_depth, plots=plots)"
   ]
  }
 ],
 "metadata": {
  "kernelspec": {
   "display_name": "Python 3",
   "language": "python",
   "name": "python3"
  },
  "language_info": {
   "codemirror_mode": {
    "name": "ipython",
    "version": 3
   },
   "file_extension": ".py",
   "mimetype": "text/x-python",
   "name": "python",
   "nbconvert_exporter": "python",
   "pygments_lexer": "ipython3",
   "version": "3.6.3"
  }
 },
 "nbformat": 4,
 "nbformat_minor": 2
}
